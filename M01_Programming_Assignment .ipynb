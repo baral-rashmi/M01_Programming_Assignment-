{
 "cells": [
  {
   "cell_type": "code",
   "execution_count": 19,
   "id": "fe7437e7",
   "metadata": {},
   "outputs": [
    {
     "data": {
      "text/plain": [
       "3600"
      ]
     },
     "execution_count": 19,
     "metadata": {},
     "output_type": "execute_result"
    }
   ],
   "source": [
    "\"\"\" \n",
    "M01 Programming Assignment - Numbers and Types\n",
    "Rashmi Baral \n",
    "Calculation of seconds_per_hour\n",
    "\"\"\"\n",
    "seconds_per_minute = 60\n",
    "minutes_per_hour = 60 \n",
    "seconds_per_minute * minutes_per_hour\n"
   ]
  },
  {
   "cell_type": "code",
   "execution_count": 15,
   "id": "a924dbc2",
   "metadata": {},
   "outputs": [
    {
     "data": {
      "text/plain": [
       "3600"
      ]
     },
     "execution_count": 15,
     "metadata": {},
     "output_type": "execute_result"
    }
   ],
   "source": [
    "\"\"\"\n",
    "Assign the result from the previous task (seconds in an hour) to a variable called seconds_per_hour.\n",
    "\"\"\"\n",
    "seconds_per_hours = (seconds_per_minute * minutes_per_hour)\n",
    "seconds_per_hours"
   ]
  },
  {
   "cell_type": "code",
   "execution_count": 24,
   "id": "9a9d3fe9",
   "metadata": {},
   "outputs": [
    {
     "data": {
      "text/plain": [
       "86400"
      ]
     },
     "execution_count": 24,
     "metadata": {},
     "output_type": "execute_result"
    }
   ],
   "source": [
    "\"\"\"\n",
    "Calculation of seconds per day\n",
    "\"\"\"\n",
    "seconds_per_day = seconds_per_hours * 24\n",
    "# there are 24 hrs in a day\n",
    "seconds_per_day"
   ]
  },
  {
   "cell_type": "code",
   "execution_count": 21,
   "id": "df6c2030",
   "metadata": {},
   "outputs": [
    {
     "data": {
      "text/plain": [
       "24.0"
      ]
     },
     "execution_count": 21,
     "metadata": {},
     "output_type": "execute_result"
    }
   ],
   "source": [
    "\"\"\"\n",
    "Dividing seconds_per_day by seconds_per_hour using floating-point (/) division.\n",
    "\"\"\"\n",
    "seconds_per_day/seconds_per_hours"
   ]
  },
  {
   "cell_type": "code",
   "execution_count": 22,
   "id": "eb6afde1",
   "metadata": {},
   "outputs": [
    {
     "data": {
      "text/plain": [
       "24"
      ]
     },
     "execution_count": 22,
     "metadata": {},
     "output_type": "execute_result"
    }
   ],
   "source": [
    "\"\"\"Dividing seconds_per_day by seconds_per_hour, using integer (//) division. \"\"\"\n",
    "seconds_per_day//seconds_per_hours\n",
    "#  Yes,this number agreed with the floating-point value from above answer, aside from the final .o"
   ]
  }
 ],
 "metadata": {
  "kernelspec": {
   "display_name": "Python 3 (ipykernel)",
   "language": "python",
   "name": "python3"
  },
  "language_info": {
   "codemirror_mode": {
    "name": "ipython",
    "version": 3
   },
   "file_extension": ".py",
   "mimetype": "text/x-python",
   "name": "python",
   "nbconvert_exporter": "python",
   "pygments_lexer": "ipython3",
   "version": "3.11.4"
  }
 },
 "nbformat": 4,
 "nbformat_minor": 5
}
